{
 "cells": [
  {
   "cell_type": "markdown",
   "id": "c42b30d6",
   "metadata": {},
   "source": [
    "# Welcome to __PERFUMEme.py__ 🧪👃🧴⚛️⚗️\n",
    "\n",
    "## Introduction\n",
    "Perfumes are a part of our everyday lives—whether it’s a subtle floral hint or a bold, spicy statement, most people have a signature scent that others come to recognize them by. But have you ever wondered what’s actually in your favorite fragrance? Perfumes are complex mixtures of countless molecules, and each one plays a unique role in shaping the scent you love.\n",
    "\n",
    "So how can you figure out which molecule is responsible for that special note in your perfume? And once you have a molecule in mind, how do you know if it’s safe, aromatic, or even used in other fragrances?\n",
    "\n",
    "Meet __PERFUMEme.py__, — a Python package that helps demystify the chemistry behind your scent. Simply input a molecule, and the tool will tell you:\n",
    "\n",
    "- Whether the molecule is fragrant or toxic\n",
    "- Its key physical properties, such as boiling point\n",
    "- How it evaporates over time, via an evaporation model\n",
    "- And best of all, which perfumes (when data allows) contain that exact molecule\n",
    "\n",
    "Unlock the secrets behind the scents — one molecule at a time.\n",
    "\n",
    "The main chemistry involved is organic chemistry and physical chemistry, particularly focusing on volatility and evaporation.\n"
   ]
  },
  {
   "cell_type": "markdown",
   "id": "2090753e",
   "metadata": {},
   "source": [
    "## 🛠️ Project Overview\n",
    "\n",
    "The __PERFUMEme__ project is a Python-based toolkit designed to bridge the gap between perfumery and cheminformatics by enabling structured, molecule-level exploration of commercial fragrances. Its primary function is to understand if a certain molecule is usable in the perfume industry and understand why or why not.\n",
    "\n",
    "Perfumes are typically described by their olfactory notes (e.g., floral, woody, spicy) and ingredient names, but rarely include explicit chemical representations. This lack of molecular data limits the potential for computational analysis and machine learning applications in fragrance design. PERFUMEme addresses this issue by enabling users to convert perfume data—including name, brand, ingredient names, and scent notes—into a format enriched with chemical identifiers, suitable for further computational analysis, clustering, or visualization.\n",
    "\n",
    "The package processes structured JSON input and performs the following key tasks:\n",
    "\n",
    "- Queries PubChem using molecule names to retrieve SMILES strings\n",
    "- Handles ambiguous or unrecognized molecule names with graceful fallbacks.\n",
    "- Returns structured data that can be visualized and analyzed.\n",
    "\n",
    "By combining publicly available molecular data with perfume metadata, PERFUMEme provides a foundation for exploring relationships between molecular composition and fragrance perception, opening the door to computational fragrance classification, similarity scoring, and even automated formulation tools. The typical user of this package would be fragrance chemists, cosmetic scientists, cheminformatics researchers, or curious enthusiasts with a background in organic or physical chemistry — especially those interested in functional groups and molecular volatility. \n",
    "\n",
    "_This may be a bit too repetitive._"
   ]
  },
  {
   "cell_type": "markdown",
   "id": "2bd6b122",
   "metadata": {},
   "source": [
    "## 🧰 Material and methods\n",
    "\n",
    "### 🗂 Data Sources\n",
    "Molecular data were retrieved from PubChem, a publicly accessible chemical database maintained by the National Center for Biotechnology Information (NCBI). The PubChem PUG REST API was used to access compound properties, such as their molecular names, SMILES strings, boiling point, enthalpy of vaporisation and pressure value.\n",
    "\n",
    "The fragrance data, including perfume names, brands, notes, and associated molecules, were compiled manually and stored in a local JSON file. This file served as the data set for the perfume_molecule.py functions.\n",
    "\n",
    "### 𝌤 Package Structure\n",
    "The __PERFUMEme__ package was implemented in Python and organized into several functional modules:\n",
    "\n",
    "- scraper.py: includes functions used to add the molecules listed in the perfumes in perfume.json to a new database and on to addtheir smiles from PubChem, used withodors.csv to add their respective odors (if they had smell).\n",
    "- utils.py: contains utility functions for validating molecule data, handling API errors, and processing JSON inputs.\n",
    "- data/: directory containing the JSON files with structured perfume and molecular data.\n",
    "\n",
    "The package was developed to be modular, allowing users to integrate new data sources or extend the current capabilities without modifying core functions. For example, adding a molecule with its odor and SMILES to molecules.json."
   ]
  },
  {
   "cell_type": "markdown",
   "id": "5df66441",
   "metadata": {},
   "source": [
    "## 📊 Results and discussions\n"
   ]
  },
  {
   "cell_type": "markdown",
   "id": "ffad536b",
   "metadata": {},
   "source": [
    "### Functions in __utils.py__\n",
    "\n",
    "##### 🧪 SMILES Extraction\n",
    "\n",
    "The SMILES strings for each molecule are retrievable using the __get_smiles__ function. A casual user might not know the SMILES of the molecule they want to analyse, so this function makes it easier for them. It is also used in the __resolve_input_to_smiles_and_cid__ function. A simple example usage is presented below."
   ]
  },
  {
   "cell_type": "code",
   "execution_count": 2,
   "id": "daba4d36",
   "metadata": {},
   "outputs": [
    {
     "ename": "AttributeError",
     "evalue": "partially initialized module 'pandas' has no attribute '_pandas_datetime_CAPI' (most likely due to a circular import)",
     "output_type": "error",
     "traceback": [
      "\u001b[0;31m---------------------------------------------------------------------------\u001b[0m",
      "\u001b[0;31mAttributeError\u001b[0m                            Traceback (most recent call last)",
      "Cell \u001b[0;32mIn[2], line 6\u001b[0m\n\u001b[1;32m      2\u001b[0m \u001b[38;5;28;01mimport\u001b[39;00m\u001b[38;5;250m \u001b[39m\u001b[38;5;21;01msys\u001b[39;00m\n\u001b[1;32m      3\u001b[0m sys\u001b[38;5;241m.\u001b[39mpath\u001b[38;5;241m.\u001b[39mappend(os\u001b[38;5;241m.\u001b[39mpath\u001b[38;5;241m.\u001b[39mabspath(\u001b[38;5;124m\"\u001b[39m\u001b[38;5;124m../src\u001b[39m\u001b[38;5;124m\"\u001b[39m))\n\u001b[0;32m----> 6\u001b[0m \u001b[38;5;28;01mfrom\u001b[39;00m\u001b[38;5;250m \u001b[39m\u001b[38;5;21;01mperfumeme\u001b[39;00m\u001b[38;5;21;01m.\u001b[39;00m\u001b[38;5;21;01mutils\u001b[39;00m\u001b[38;5;250m \u001b[39m\u001b[38;5;28;01mimport\u001b[39;00m get_smiles\n\u001b[1;32m      7\u001b[0m citronellol_smiles\u001b[38;5;241m=\u001b[39m get_smiles(\u001b[38;5;124m\"\u001b[39m\u001b[38;5;124mCitronellol\u001b[39m\u001b[38;5;124m\"\u001b[39m)\n\u001b[1;32m      8\u001b[0m \u001b[38;5;28mprint\u001b[39m (citronellol_smiles)\n",
      "File \u001b[0;32m~/Documents/EPFL/BA.4/prog/project/PERFUMEme/src/perfumeme/__init__.py:4\u001b[0m\n\u001b[1;32m      1\u001b[0m \u001b[38;5;124;03m\"\"\"Determine if a molecule given by the user is present in a perfume and what are its main properties.\"\"\"\u001b[39;00m\n\u001b[1;32m      3\u001b[0m \u001b[38;5;28;01mfrom\u001b[39;00m\u001b[38;5;250m \u001b[39m\u001b[38;5;21;01m__future__\u001b[39;00m\u001b[38;5;250m \u001b[39m\u001b[38;5;28;01mimport\u001b[39;00m annotations\n\u001b[0;32m----> 4\u001b[0m \u001b[38;5;28;01mfrom\u001b[39;00m\u001b[38;5;250m \u001b[39m\u001b[38;5;21;01m.\u001b[39;00m\u001b[38;5;21;01mmain_functions\u001b[39;00m\u001b[38;5;250m \u001b[39m\u001b[38;5;28;01mimport\u001b[39;00m has_a_smell, is_toxic_skin, evaporation_trace\n\u001b[1;32m      5\u001b[0m \u001b[38;5;28;01mfrom\u001b[39;00m\u001b[38;5;250m \u001b[39m\u001b[38;5;21;01m.\u001b[39;00m\u001b[38;5;21;01mperfume_molecule\u001b[39;00m\u001b[38;5;250m \u001b[39m\u001b[38;5;28;01mimport\u001b[39;00m match_mol_to_odor, match_molecule_to_perfumes,odor_molecule_perfume\n\u001b[1;32m      6\u001b[0m \u001b[38;5;28;01mfrom\u001b[39;00m\u001b[38;5;250m \u001b[39m\u001b[38;5;21;01m.\u001b[39;00m\u001b[38;5;21;01mutils\u001b[39;00m\u001b[38;5;250m \u001b[39m\u001b[38;5;28;01mimport\u001b[39;00m get_smiles,get_pubchem_record_sections,get_cid_from_smiles,get_odor,get_pubchem_description,resolve_input_to_smiles_and_cid\n",
      "File \u001b[0;32m~/Documents/EPFL/BA.4/prog/project/PERFUMEme/src/perfumeme/main_functions.py:5\u001b[0m\n\u001b[1;32m      3\u001b[0m \u001b[38;5;28;01mimport\u001b[39;00m\u001b[38;5;250m \u001b[39m\u001b[38;5;21;01mre\u001b[39;00m\n\u001b[1;32m      4\u001b[0m \u001b[38;5;28;01mimport\u001b[39;00m\u001b[38;5;250m \u001b[39m\u001b[38;5;21;01mmath\u001b[39;00m\n\u001b[0;32m----> 5\u001b[0m \u001b[38;5;28;01mfrom\u001b[39;00m\u001b[38;5;250m \u001b[39m\u001b[38;5;21;01mperfumeme\u001b[39;00m\u001b[38;5;21;01m.\u001b[39;00m\u001b[38;5;21;01mutils\u001b[39;00m\u001b[38;5;250m \u001b[39m\u001b[38;5;28;01mimport\u001b[39;00m get_pubchem_record_sections, resolve_input_to_smiles_and_cid\n\u001b[1;32m      8\u001b[0m \u001b[38;5;28;01mdef\u001b[39;00m\u001b[38;5;250m \u001b[39m\u001b[38;5;21mhas_a_smell\u001b[39m(compound_name_or_smiles):\n\u001b[1;32m      9\u001b[0m \u001b[38;5;250m    \u001b[39m\u001b[38;5;124;03m\"\"\"\u001b[39;00m\n\u001b[1;32m     10\u001b[0m \u001b[38;5;124;03m    Checks if a given compound has a detectable smell based on its description from PubChem.\u001b[39;00m\n\u001b[1;32m     11\u001b[0m \n\u001b[0;32m   (...)\u001b[0m\n\u001b[1;32m     24\u001b[0m \u001b[38;5;124;03m        Exception: If the compound name or SMILES is invalid or if there is an issue retrieving data from PubChem.\u001b[39;00m\n\u001b[1;32m     25\u001b[0m \u001b[38;5;124;03m    \"\"\"\u001b[39;00m\n",
      "File \u001b[0;32m~/Documents/EPFL/BA.4/prog/project/PERFUMEme/src/perfumeme/utils.py:7\u001b[0m\n\u001b[1;32m      5\u001b[0m \u001b[38;5;28;01mimport\u001b[39;00m\u001b[38;5;250m \u001b[39m\u001b[38;5;21;01mjson\u001b[39;00m\n\u001b[1;32m      6\u001b[0m \u001b[38;5;28;01mfrom\u001b[39;00m\u001b[38;5;250m \u001b[39m\u001b[38;5;21;01mpathlib\u001b[39;00m\u001b[38;5;250m \u001b[39m\u001b[38;5;28;01mimport\u001b[39;00m Path\n\u001b[0;32m----> 7\u001b[0m \u001b[38;5;28;01mimport\u001b[39;00m\u001b[38;5;250m \u001b[39m\u001b[38;5;21;01mpandas\u001b[39;00m\u001b[38;5;250m \u001b[39m\u001b[38;5;28;01mas\u001b[39;00m\u001b[38;5;250m \u001b[39m\u001b[38;5;21;01mpd\u001b[39;00m\n\u001b[1;32m      8\u001b[0m \u001b[38;5;28;01mimport\u001b[39;00m\u001b[38;5;250m \u001b[39m\u001b[38;5;21;01mos\u001b[39;00m\n\u001b[1;32m      9\u001b[0m \u001b[38;5;28;01mimport\u001b[39;00m\u001b[38;5;250m \u001b[39m\u001b[38;5;21;01murllib\u001b[39;00m\u001b[38;5;21;01m.\u001b[39;00m\u001b[38;5;21;01mparse\u001b[39;00m\n",
      "File \u001b[0;32m/opt/anaconda3/envs/fragrance/lib/python3.10/site-packages/pandas/__init__.py:49\u001b[0m\n\u001b[1;32m     46\u001b[0m \u001b[38;5;66;03m# let init-time option registration happen\u001b[39;00m\n\u001b[1;32m     47\u001b[0m \u001b[38;5;28;01mimport\u001b[39;00m\u001b[38;5;250m \u001b[39m\u001b[38;5;21;01mpandas\u001b[39;00m\u001b[38;5;21;01m.\u001b[39;00m\u001b[38;5;21;01mcore\u001b[39;00m\u001b[38;5;21;01m.\u001b[39;00m\u001b[38;5;21;01mconfig_init\u001b[39;00m  \u001b[38;5;66;03m# pyright: ignore[reportUnusedImport] # noqa: F401\u001b[39;00m\n\u001b[0;32m---> 49\u001b[0m \u001b[38;5;28;01mfrom\u001b[39;00m\u001b[38;5;250m \u001b[39m\u001b[38;5;21;01mpandas\u001b[39;00m\u001b[38;5;21;01m.\u001b[39;00m\u001b[38;5;21;01mcore\u001b[39;00m\u001b[38;5;21;01m.\u001b[39;00m\u001b[38;5;21;01mapi\u001b[39;00m\u001b[38;5;250m \u001b[39m\u001b[38;5;28;01mimport\u001b[39;00m (\n\u001b[1;32m     50\u001b[0m     \u001b[38;5;66;03m# dtype\u001b[39;00m\n\u001b[1;32m     51\u001b[0m     ArrowDtype,\n\u001b[1;32m     52\u001b[0m     Int8Dtype,\n\u001b[1;32m     53\u001b[0m     Int16Dtype,\n\u001b[1;32m     54\u001b[0m     Int32Dtype,\n\u001b[1;32m     55\u001b[0m     Int64Dtype,\n\u001b[1;32m     56\u001b[0m     UInt8Dtype,\n\u001b[1;32m     57\u001b[0m     UInt16Dtype,\n\u001b[1;32m     58\u001b[0m     UInt32Dtype,\n\u001b[1;32m     59\u001b[0m     UInt64Dtype,\n\u001b[1;32m     60\u001b[0m     Float32Dtype,\n\u001b[1;32m     61\u001b[0m     Float64Dtype,\n\u001b[1;32m     62\u001b[0m     CategoricalDtype,\n\u001b[1;32m     63\u001b[0m     PeriodDtype,\n\u001b[1;32m     64\u001b[0m     IntervalDtype,\n\u001b[1;32m     65\u001b[0m     DatetimeTZDtype,\n\u001b[1;32m     66\u001b[0m     StringDtype,\n\u001b[1;32m     67\u001b[0m     BooleanDtype,\n\u001b[1;32m     68\u001b[0m     \u001b[38;5;66;03m# missing\u001b[39;00m\n\u001b[1;32m     69\u001b[0m     NA,\n\u001b[1;32m     70\u001b[0m     isna,\n\u001b[1;32m     71\u001b[0m     isnull,\n\u001b[1;32m     72\u001b[0m     notna,\n\u001b[1;32m     73\u001b[0m     notnull,\n\u001b[1;32m     74\u001b[0m     \u001b[38;5;66;03m# indexes\u001b[39;00m\n\u001b[1;32m     75\u001b[0m     Index,\n\u001b[1;32m     76\u001b[0m     CategoricalIndex,\n\u001b[1;32m     77\u001b[0m     RangeIndex,\n\u001b[1;32m     78\u001b[0m     MultiIndex,\n\u001b[1;32m     79\u001b[0m     IntervalIndex,\n\u001b[1;32m     80\u001b[0m     TimedeltaIndex,\n\u001b[1;32m     81\u001b[0m     DatetimeIndex,\n\u001b[1;32m     82\u001b[0m     PeriodIndex,\n\u001b[1;32m     83\u001b[0m     IndexSlice,\n\u001b[1;32m     84\u001b[0m     \u001b[38;5;66;03m# tseries\u001b[39;00m\n\u001b[1;32m     85\u001b[0m     NaT,\n\u001b[1;32m     86\u001b[0m     Period,\n\u001b[1;32m     87\u001b[0m     period_range,\n\u001b[1;32m     88\u001b[0m     Timedelta,\n\u001b[1;32m     89\u001b[0m     timedelta_range,\n\u001b[1;32m     90\u001b[0m     Timestamp,\n\u001b[1;32m     91\u001b[0m     date_range,\n\u001b[1;32m     92\u001b[0m     bdate_range,\n\u001b[1;32m     93\u001b[0m     Interval,\n\u001b[1;32m     94\u001b[0m     interval_range,\n\u001b[1;32m     95\u001b[0m     DateOffset,\n\u001b[1;32m     96\u001b[0m     \u001b[38;5;66;03m# conversion\u001b[39;00m\n\u001b[1;32m     97\u001b[0m     to_numeric,\n\u001b[1;32m     98\u001b[0m     to_datetime,\n\u001b[1;32m     99\u001b[0m     to_timedelta,\n\u001b[1;32m    100\u001b[0m     \u001b[38;5;66;03m# misc\u001b[39;00m\n\u001b[1;32m    101\u001b[0m     Flags,\n\u001b[1;32m    102\u001b[0m     Grouper,\n\u001b[1;32m    103\u001b[0m     factorize,\n\u001b[1;32m    104\u001b[0m     unique,\n\u001b[1;32m    105\u001b[0m     value_counts,\n\u001b[1;32m    106\u001b[0m     NamedAgg,\n\u001b[1;32m    107\u001b[0m     array,\n\u001b[1;32m    108\u001b[0m     Categorical,\n\u001b[1;32m    109\u001b[0m     set_eng_float_format,\n\u001b[1;32m    110\u001b[0m     Series,\n\u001b[1;32m    111\u001b[0m     DataFrame,\n\u001b[1;32m    112\u001b[0m )\n\u001b[1;32m    114\u001b[0m \u001b[38;5;28;01mfrom\u001b[39;00m\u001b[38;5;250m \u001b[39m\u001b[38;5;21;01mpandas\u001b[39;00m\u001b[38;5;21;01m.\u001b[39;00m\u001b[38;5;21;01mcore\u001b[39;00m\u001b[38;5;21;01m.\u001b[39;00m\u001b[38;5;21;01mdtypes\u001b[39;00m\u001b[38;5;21;01m.\u001b[39;00m\u001b[38;5;21;01mdtypes\u001b[39;00m\u001b[38;5;250m \u001b[39m\u001b[38;5;28;01mimport\u001b[39;00m SparseDtype\n\u001b[1;32m    116\u001b[0m \u001b[38;5;28;01mfrom\u001b[39;00m\u001b[38;5;250m \u001b[39m\u001b[38;5;21;01mpandas\u001b[39;00m\u001b[38;5;21;01m.\u001b[39;00m\u001b[38;5;21;01mtseries\u001b[39;00m\u001b[38;5;21;01m.\u001b[39;00m\u001b[38;5;21;01mapi\u001b[39;00m\u001b[38;5;250m \u001b[39m\u001b[38;5;28;01mimport\u001b[39;00m infer_freq\n",
      "File \u001b[0;32m/opt/anaconda3/envs/fragrance/lib/python3.10/site-packages/pandas/core/api.py:1\u001b[0m\n\u001b[0;32m----> 1\u001b[0m \u001b[38;5;28;01mfrom\u001b[39;00m\u001b[38;5;250m \u001b[39m\u001b[38;5;21;01mpandas\u001b[39;00m\u001b[38;5;21;01m.\u001b[39;00m\u001b[38;5;21;01m_libs\u001b[39;00m\u001b[38;5;250m \u001b[39m\u001b[38;5;28;01mimport\u001b[39;00m (\n\u001b[1;32m      2\u001b[0m     NaT,\n\u001b[1;32m      3\u001b[0m     Period,\n\u001b[1;32m      4\u001b[0m     Timedelta,\n\u001b[1;32m      5\u001b[0m     Timestamp,\n\u001b[1;32m      6\u001b[0m )\n\u001b[1;32m      7\u001b[0m \u001b[38;5;28;01mfrom\u001b[39;00m\u001b[38;5;250m \u001b[39m\u001b[38;5;21;01mpandas\u001b[39;00m\u001b[38;5;21;01m.\u001b[39;00m\u001b[38;5;21;01m_libs\u001b[39;00m\u001b[38;5;21;01m.\u001b[39;00m\u001b[38;5;21;01mmissing\u001b[39;00m\u001b[38;5;250m \u001b[39m\u001b[38;5;28;01mimport\u001b[39;00m NA\n\u001b[1;32m      9\u001b[0m \u001b[38;5;28;01mfrom\u001b[39;00m\u001b[38;5;250m \u001b[39m\u001b[38;5;21;01mpandas\u001b[39;00m\u001b[38;5;21;01m.\u001b[39;00m\u001b[38;5;21;01mcore\u001b[39;00m\u001b[38;5;21;01m.\u001b[39;00m\u001b[38;5;21;01mdtypes\u001b[39;00m\u001b[38;5;21;01m.\u001b[39;00m\u001b[38;5;21;01mdtypes\u001b[39;00m\u001b[38;5;250m \u001b[39m\u001b[38;5;28;01mimport\u001b[39;00m (\n\u001b[1;32m     10\u001b[0m     ArrowDtype,\n\u001b[1;32m     11\u001b[0m     CategoricalDtype,\n\u001b[0;32m   (...)\u001b[0m\n\u001b[1;32m     14\u001b[0m     PeriodDtype,\n\u001b[1;32m     15\u001b[0m )\n",
      "File \u001b[0;32m/opt/anaconda3/envs/fragrance/lib/python3.10/site-packages/pandas/_libs/__init__.py:18\u001b[0m\n\u001b[1;32m     16\u001b[0m \u001b[38;5;28;01mimport\u001b[39;00m\u001b[38;5;250m \u001b[39m\u001b[38;5;21;01mpandas\u001b[39;00m\u001b[38;5;21;01m.\u001b[39;00m\u001b[38;5;21;01m_libs\u001b[39;00m\u001b[38;5;21;01m.\u001b[39;00m\u001b[38;5;21;01mpandas_parser\u001b[39;00m  \u001b[38;5;66;03m# isort: skip # type: ignore[reportUnusedImport]\u001b[39;00m\n\u001b[1;32m     17\u001b[0m \u001b[38;5;28;01mimport\u001b[39;00m\u001b[38;5;250m \u001b[39m\u001b[38;5;21;01mpandas\u001b[39;00m\u001b[38;5;21;01m.\u001b[39;00m\u001b[38;5;21;01m_libs\u001b[39;00m\u001b[38;5;21;01m.\u001b[39;00m\u001b[38;5;21;01mpandas_datetime\u001b[39;00m  \u001b[38;5;66;03m# noqa: F401 # isort: skip # type: ignore[reportUnusedImport]\u001b[39;00m\n\u001b[0;32m---> 18\u001b[0m \u001b[38;5;28;01mfrom\u001b[39;00m\u001b[38;5;250m \u001b[39m\u001b[38;5;21;01mpandas\u001b[39;00m\u001b[38;5;21;01m.\u001b[39;00m\u001b[38;5;21;01m_libs\u001b[39;00m\u001b[38;5;21;01m.\u001b[39;00m\u001b[38;5;21;01minterval\u001b[39;00m\u001b[38;5;250m \u001b[39m\u001b[38;5;28;01mimport\u001b[39;00m Interval\n\u001b[1;32m     19\u001b[0m \u001b[38;5;28;01mfrom\u001b[39;00m\u001b[38;5;250m \u001b[39m\u001b[38;5;21;01mpandas\u001b[39;00m\u001b[38;5;21;01m.\u001b[39;00m\u001b[38;5;21;01m_libs\u001b[39;00m\u001b[38;5;21;01m.\u001b[39;00m\u001b[38;5;21;01mtslibs\u001b[39;00m\u001b[38;5;250m \u001b[39m\u001b[38;5;28;01mimport\u001b[39;00m (\n\u001b[1;32m     20\u001b[0m     NaT,\n\u001b[1;32m     21\u001b[0m     NaTType,\n\u001b[0;32m   (...)\u001b[0m\n\u001b[1;32m     26\u001b[0m     iNaT,\n\u001b[1;32m     27\u001b[0m )\n",
      "File \u001b[0;32minterval.pyx:1\u001b[0m, in \u001b[0;36minit pandas._libs.interval\u001b[0;34m()\u001b[0m\n",
      "File \u001b[0;32mhashtable.pyx:1\u001b[0m, in \u001b[0;36minit pandas._libs.hashtable\u001b[0;34m()\u001b[0m\n",
      "File \u001b[0;32mmissing.pyx:40\u001b[0m, in \u001b[0;36minit pandas._libs.missing\u001b[0;34m()\u001b[0m\n",
      "\u001b[0;31mAttributeError\u001b[0m: partially initialized module 'pandas' has no attribute '_pandas_datetime_CAPI' (most likely due to a circular import)"
     ]
    }
   ],
   "source": [
    "import os\n",
    "import sys\n",
    "sys.path.append(os.path.abspath(\"../src\"))\n",
    "\n",
    "\n",
    "from perfumeme.utils import get_smiles\n",
    "citronellol_smiles= get_smiles(\"Citronellol\")\n",
    "print (citronellol_smiles)"
   ]
  },
  {
   "cell_type": "markdown",
   "id": "171d993c",
   "metadata": {},
   "source": [
    "This function can handle API queries, error checking, and returns the results in a structured format.\n"
   ]
  },
  {
   "cell_type": "markdown",
   "id": "ae6c521c",
   "metadata": {},
   "source": [
    "##### Resolving the input\n",
    "\n",
    "The function __resolve_input_to_smiles_and_cid__, used in the main functions, is what allows the user to input either a SMILES or the compound name. This is a function to make the main functions easier to use and accessable. It also uses the __get_cid_from_smiles__ function, which retrieves the PubChem Compound ID (CID) corresponding to a given SMILES string.\n",
    "\n",
    "When developping the __main_functions__, the distinction between a molecule's name and its SMILES was done by looking at the first letter of the input. This raised a problem when the name of the molecule sarted with a \"C\" and if the SMILES didn't start with a \"C\" (like water for example). There is now a \"try-first, fallback-on-exception\" pattern to detect if the input is a SMILES or a molecule name."
   ]
  },
  {
   "cell_type": "markdown",
   "id": "1c73c3d7",
   "metadata": {},
   "source": [
    "##### Get the odor\n",
    "\n",
    "This function is used in __scraper.py__ to get the odors of a molecule and add them to the database.\n",
    "\n",
    "##### Getting information from PubChem\n",
    "\n",
    "The function __get_pubchem_description__ is used in the function __has_a_smell__ to get the descriptive information associated with a compound identified by its CID, such as general chemical information and properties. This description corresponds to the table presented at the top of the PubChem page. For example, this is what you can find on PubChem for the citronellol molecule, compared to the result of the function. Thanks to the example above, the SMILES for citronellol is known and can be used for this function. "
   ]
  },
  {
   "cell_type": "code",
   "execution_count": 2,
   "id": "f81a8f4b",
   "metadata": {},
   "outputs": [
    {
     "ename": "ModuleNotFoundError",
     "evalue": "No module named 'perfumeme'",
     "output_type": "error",
     "traceback": [
      "\u001b[0;31m---------------------------------------------------------------------------\u001b[0m",
      "\u001b[0;31mModuleNotFoundError\u001b[0m                       Traceback (most recent call last)",
      "Cell \u001b[0;32mIn[2], line 1\u001b[0m\n\u001b[0;32m----> 1\u001b[0m \u001b[38;5;28;01mfrom\u001b[39;00m\u001b[38;5;250m \u001b[39m\u001b[38;5;21;01mperfumeme\u001b[39;00m\u001b[38;5;21;01m.\u001b[39;00m\u001b[38;5;21;01mutils\u001b[39;00m\u001b[38;5;250m \u001b[39m\u001b[38;5;28;01mimport\u001b[39;00m get_pubchem_description, get_cid_from_smiles\n\u001b[1;32m      2\u001b[0m \u001b[38;5;28;01mfrom\u001b[39;00m\u001b[38;5;250m \u001b[39m\u001b[38;5;21;01mIPython\u001b[39;00m\u001b[38;5;21;01m.\u001b[39;00m\u001b[38;5;21;01mdisplay\u001b[39;00m\u001b[38;5;250m \u001b[39m\u001b[38;5;28;01mimport\u001b[39;00m display, HTML\n\u001b[1;32m      4\u001b[0m citronellol_cid \u001b[38;5;241m=\u001b[39m get_cid_from_smiles(citronellol_smiles)\n",
      "\u001b[0;31mModuleNotFoundError\u001b[0m: No module named 'perfumeme'"
     ]
    }
   ],
   "source": [
    "from perfumeme.utils import get_pubchem_description, get_cid_from_smiles\n",
    "from IPython.display import display, HTML\n",
    "\n",
    "citronellol_cid = get_cid_from_smiles(citronellol_smiles)\n",
    "print (citronellol_cid)\n",
    "\n",
    "print(\"From PubChem website:\")\n",
    "screenshot_html = '<img width=\"400\" alt=\"PubChem description of citronellol\" src=\"https://github.com/mlacrx/perfumeme/blob/main/assets/citronellol_pubchem.png?raw=true\">'\n",
    "display(HTML(screenshot_html))\n",
    "print(f\"from function {get_pubchem_description(citronellol_cid)}\")\n",
    "\n",
    "### RUN"
   ]
  },
  {
   "cell_type": "markdown",
   "id": "f38ac091",
   "metadata": {},
   "source": [
    "The function __get_pubchem_record_sections__ gets the structured data sections for a compound from PubChem using its CID. It is used in several functions of the __main_functions.py__. It allows the functions to find the need information in the right section of the JSON."
   ]
  },
  {
   "cell_type": "markdown",
   "id": "6c8408f0",
   "metadata": {},
   "source": [
    "These functions are essential for the successfull operation of the function."
   ]
  },
  {
   "cell_type": "markdown",
   "id": "cbd5888b",
   "metadata": {},
   "source": [
    "### Function in __main_functions.py__\n",
    "\n",
    "One of the main purpouses of this package is to determine if a given molecule is usable in a perfume. Multiple factors need to be taken into account to determine this. Such as if the molecule has a smell, is too toxic for the skin and see if it will stay long enough."
   ]
  },
  {
   "cell_type": "markdown",
   "id": "17449e76",
   "metadata": {},
   "source": [
    "#### 🌸 Does it have a smell?\n",
    "\n",
    "The function __has_a_smell__ verifies if a given molecule is odorous. Thanks to the function __resolve_input_to_smiles_and_cid__, either the SMILES or the name of the molecule can be introduced in the input. This function returns __True__ if it does, and __False__ if it doesn't. But of course even without a smell, some molecules are present in perfumes."
   ]
  },
  {
   "cell_type": "code",
   "execution_count": 41,
   "id": "859e2d53",
   "metadata": {},
   "outputs": [
    {
     "name": "stdout",
     "output_type": "stream",
     "text": [
      "False\n"
     ]
    }
   ],
   "source": [
    "from perfumeme.main_functions import has_a_smell\n",
    "\n",
    "print (has_a_smell(\"Citronellol\"))"
   ]
  },
  {
   "cell_type": "markdown",
   "id": "8f960eae",
   "metadata": {},
   "source": [
    "#### ☠️ Is it toxic?\n",
    "\n",
    "The function __is_toxic_skin__ determines with a bool, using the PubChem safety data, if a given compound is toxic on the skin. Even if it returns __False__, it doesn't rule out its use in a perfume, as sometimes it can still be used in a small concentration."
   ]
  },
  {
   "cell_type": "markdown",
   "id": "f3271ecb",
   "metadata": {},
   "source": [
    "#### 📈 Evaporation trace\n",
    "\n",
    "The function __evaporation_trace__ accomplishes multiple tasks. Its main goal is to plot the evaporation trace of the molecule using thermodynamic data from PubChem. This graph show the relative concentration as a function of time. This will then be used, in the function __usable_in_perfume__ to determine if the molecule is a base note, a heart note or a top note, based on the vapor pressure or boiling point. For this reason, __evaporation_trace__ also returns the vapor pressure at a certain temperature, the boiling point and the enthalpy of vaporisation of the entered molecule. Below is an example for citronellol."
   ]
  },
  {
   "cell_type": "code",
   "execution_count": null,
   "id": "4d882169",
   "metadata": {},
   "outputs": [],
   "source": [
    "from perfumeme.main_functions import evaporation_trace\n",
    "\n",
    "molecule = \"citronellol\"\n",
    "\n",
    "vapor_pressure, boiling_point, vp_temp, enthalpy, image_path = evaporation_trace(molecule)\n",
    "\n",
    "print(f\"💨 Vapor Pressure: {vapor_pressure} mmHg\")\n",
    "print(f\"🔥 Boiling Point: {boiling_point} °C\")\n",
    "print(f\"🌡️ Vapor Pressure Measured at: {vp_temp} °C\")\n",
    "print(f\"⚡ Enthalpy of Vaporization: {enthalpy} J/mol\")"
   ]
  },
  {
   "cell_type": "markdown",
   "id": "7336ecc1",
   "metadata": {},
   "source": [
    "The function encountered a significant challenge due to the lack of standardization on PubChem’s web pages. Unlike other databases where the structure and presentation of information are consistent across all records, PubChem's molecule pages vary significantly depending on the compound. This inconsistency posed a problem when attempting to extract specific information, as the function needed to adapt to different page layouts and data formats. After numerous attempts with a variety of molecules, each displaying its data in unique ways, it became evident that a more flexible approach was necessary. Consequently, the function was restructured to handle these discrepancies, incorporating logic to process the different ways in which PubChem presents its information. This modification allowed the function to accept all possible formats and return the correct data, regardless of the molecule's page structure."
   ]
  },
  {
   "cell_type": "markdown",
   "id": "39fdedfb",
   "metadata": {},
   "source": [
    "#### 🤔 So... can we use this molecule?\n",
    "\n",
    "The function __usable_in_perfume__ evaluates whether a molecule is suitable for use in perfume formulations. It evaluates three key criteria to assess a molecule's suitability for perfumery: whether it has a detectable odor, whether it is safe for skin contact, and whether its volatility aligns with fragrance application. To classify the molecule as a top, heart, or base note, it primarily uses vapor pressure data, falling back on boiling point when necessary. Additionally, the function generates an annotated evaporation curve that visually highlights the corresponding note classification. An example for citronellol is given below."
   ]
  },
  {
   "cell_type": "code",
   "execution_count": null,
   "id": "345c65c4",
   "metadata": {},
   "outputs": [],
   "source": [
    "from perfumeme.usable_in_perfume import usable_in_perfume\n",
    "molecule = \"citronellol\"\n",
    "summary, plot = usable_in_perfume(molecule)\n",
    "print(summary)\n",
    "print(plot)"
   ]
  },
  {
   "cell_type": "markdown",
   "id": "8f9c7e29",
   "metadata": {},
   "source": [
    "Initially, the assumption was made that for a molecule to be used in perfumery, it must possess a detectable odor and be safe for dermal exposure. As a result, the early version of the function automatically excluded any compound that was either odorless or flagged as potentially toxic. However, this approach proved to be too restrictive. In practice, the fragrance industry sometimes incorporates molecules that serve functional or technical roles—such as fixatives, stabilizers, or solvents—even if they don't contribute directly to the scent profile or have some level of toxicity under specific conditions. Recognizing this, the logic of the function was revised to allow for a more flexible and realistic evaluation, acknowledging that the presence of an odor or complete safety is not always a prerequisite for a molecule's use in a perfume formulation. Indeed, for certain molecules, if they are diluted enough, they don't have the same same safety restrictions."
   ]
  },
  {
   "cell_type": "markdown",
   "id": "4c6cc696",
   "metadata": {},
   "source": [
    "### 👃 What odor does it give in the perfume?\n",
    "\n",
    "The function __odor_molecule_perfume__ answers this question. It will return a dictionnary which matches the given molecule to a selection of perfumes in which it is present, and which smell it gives the perfume. Two functions were defined for it, or to be used seperately if you just wish to know the scent of the molecule for example. These two functions are __match_molecule_to_perfumes__ and __match_mol_to_odor__.\n",
    "\n",
    "First, the database __perfumes.json__ was manually created with 29 perfumes. This list is limited as there is no database with all the perfumes and their ingredients. There is also the fact that not all perfume makers provide the list of molecules used in their perfumes. A separate database, __molecules.json__, contains all the molecules that are contained in the perfumes. To each is associated their SMILES and their odor. The odor was found from an additional database found online, __withodors.csv__. This last database contains a lot of unnecessary molecules for this package, which justifies the choice of creating a smaller database was made. The functions used to create these databases are found in __scraper.py__. It also doesn't include any molecules which are odorlesss.\n",
    "\n",
    "#### 🤝 Match molecule to perfume\n",
    "\n",
    "The function __match_molecule_to_perfumes__ will return a list of the perfumes which contain this molecule. This function is not case sensitive. Below is an example usage."
   ]
  },
  {
   "cell_type": "code",
   "execution_count": null,
   "id": "2005c305",
   "metadata": {},
   "outputs": [],
   "source": [
    "from perfumeme.perfume_molecule import match_molecule_to_perfumes\n",
    "\n",
    "# Find all perfumes containing Citronellol\n",
    "citrionellol_perfumes = match_molecule_to_perfumes(\"citronellol\")\n",
    "print(citrionellol_perfumes)"
   ]
  },
  {
   "cell_type": "markdown",
   "id": "03f50531",
   "metadata": {},
   "source": [
    "#### 🧪 Match molecule to odor\n",
    "\n",
    "The function __match_mol_to_odor__ returns a list which contains the odors of a given molecule. An example usage for this function:"
   ]
  },
  {
   "cell_type": "code",
   "execution_count": null,
   "id": "7d72f0bb",
   "metadata": {},
   "outputs": [],
   "source": [
    "from perfumeme.perfume_molecule import match_mol_to_odor\n",
    "\n",
    "# Find all odors of citronellol\n",
    "citronellol_odors = match_mol_to_odor(\"citronellol\")\n",
    "print(citronellol_odors)"
   ]
  },
  {
   "cell_type": "markdown",
   "id": "ef641430",
   "metadata": {},
   "source": [
    "### 😥 Limitations of the module\n",
    "\n",
    "The model classifies compounds into top, heart, or base notes primarily based on vapor pressure or boiling point. This approach doesn't account for the complex interactions and perceptions involved in fragrance development, potentially oversimplifying the classification.\n",
    "\n",
    "The focus is on individual molecules without considering their behavior in mixtures, which is essential in perfumery. The synergistic effects and stability of compounds in a blend are not addressed.\n",
    "\n",
    "The limitation for __odor_molecule_perfume__ is that there are only 29 perfumes listed in the database. Perfumes can always be added to it, but only manually. The molecules present in the newly added perfumes will then be automatically added to the __molecules.json__ database. The function __match_mol_to_odor__ only returns the odors of a molecule if it's in the database __molecules.json__. It is definetly possible to allow the user to add the molecule they insert to the database, if it's not yet present. This is an update that can be done in the future. However, __molecules.json__ contains all the molecule from __perfumes.json__, so if a user inputs a molecule which isn't in __molecules.json__ and so adds it to the databse, it won't be detected in a perfume."
   ]
  },
  {
   "cell_type": "markdown",
   "id": "e35914bd",
   "metadata": {},
   "source": [
    "## 👉 Conclusion"
   ]
  },
  {
   "cell_type": "markdown",
   "id": "07aeeb16",
   "metadata": {},
   "source": [
    "The PERFUMEme package provides an accessible and practical tool for evaluating the suitability of chemical compounds for use in perfumery. By integrating data from PubChem and applying criteria such as odor presence, dermal toxicity, and volatility, the package enables preliminary classification of molecules into fragrance note types (top, heart, or base). It also supports visual exploration through evaporation curves and simplifies molecular data extraction for further analysis. Furthermore, it presents, for a limited amount of perfumes, in which ones a molecule is used and its specified odor.\n",
    "\n",
    "Throughout its development, key challenges such as inconsistent data structures on PubChem and rigid initial assumptions about odor and safety were successfully addressed through flexible code design and exception handling strategies. While the tool presents a valuable foundation for molecule screening and educational purposes, it is important to acknowledge its limitations—particularly the reliance on third-party data, simplified volatility modeling, the lack of mixture analysis, and the restrictions in the small database of perfumes.\n",
    "\n",
    "To go further, one could incorporate functions and data to take into consideration the blend of molecules, to be able to give even more precise information on the molecules and their effect in a perfume.\n",
    "\n",
    "In conclusion, PERFUMEme offers a thoughtful blend of chemical informatics and perfumery insight. It is best viewed as a helpful exploratory tool that complements, expert formulation knowledge and experimental validation in the fragrance development process."
   ]
  }
 ],
 "metadata": {
  "kernelspec": {
   "display_name": "fragrance",
   "language": "python",
   "name": "python3"
  },
  "language_info": {
   "codemirror_mode": {
    "name": "ipython",
    "version": 3
   },
   "file_extension": ".py",
   "mimetype": "text/x-python",
   "name": "python",
   "nbconvert_exporter": "python",
   "pygments_lexer": "ipython3",
   "version": "3.10.16"
  }
 },
 "nbformat": 4,
 "nbformat_minor": 5
}
