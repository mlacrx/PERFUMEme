{
 "cells": [
  {
   "cell_type": "markdown",
   "id": "c42b30d6",
   "metadata": {},
   "source": [
    "# Welcome to __PERFUMEme.py__ 🧪👃🧴⚛️⚗️\n",
    "\n",
    "## Introduction\n",
    "Perfumes are a part of our everyday lives—whether it’s a subtle floral hint or a bold, spicy statement, most people have a signature scent that others come to recognize them by. But have you ever wondered what’s actually in your favorite fragrance? Perfumes are complex mixtures of countless molecules, and each one plays a unique role in shaping the scent you love.\n",
    "\n",
    "So how can you figure out which molecule is responsible for that special note in your perfume? And once you have a molecule in mind, how do you know if it’s safe, aromatic, or even used in other fragrances?\n",
    "\n",
    "Meet __PERFUMEme.py__, — a Python package that helps demystify the chemistry behind your scent. Simply input a molecule, and the tool will tell you:\n",
    "\n",
    "- Whether the molecule is fragrant or toxic\n",
    "- Its key physical properties, such as boiling point\n",
    "- How it evaporates over time, via an evaporation model\n",
    "- And best of all, which perfumes (when data allows) contain that exact molecule\n",
    "\n",
    "Unlock the secrets behind the scents — one molecule at a time.\n",
    "\n",
    "The main chemistry involved is..."
   ]
  },
  {
   "cell_type": "markdown",
   "id": "2bd6b122",
   "metadata": {},
   "source": [
    "## Material and methods\n",
    "\n",
    "### Data Sources 🗂\n",
    "Molecular data were retrieved from PubChem, a publicly accessible chemical database maintained by the National Center for Biotechnology Information (NCBI). The PubChem PUG REST API was used to access compound properties, such as their molecular names, SMILES strings, boiling point, enthalpy of vaporisation and pressure value.\n",
    "\n",
    "The fragrance data, including perfume names, brands, notes, and associated molecules, were compiled manually and stored in a local JSON file. This file served as the data set for the perfume_molecule.py functions.\n",
    "\n",
    "### Package Structure 𝌤\n",
    "The __PERFUMEme__ package was implemented in Python and organized into several functional modules:\n",
    "\n",
    "- scraper.py: includes functions used to add the molecules listed in the perfumes in perfume.json to a new database and on to addtheir smiles from PubChem, used withodors.csv to add their respective odors (if they had smell).\n",
    "- utils.py: contains utility functions for validating molecule data, handling API errors, and processing JSON inputs.\n",
    "- data/: directory containing the JSON files with structured perfume and molecular data.\n",
    "\n",
    "The package was developed to be modular, allowing users to integrate new data sources or extend the current capabilities without modifying core functions. For example, adding a molecule with its odor and SMILES to molecules.json."
   ]
  },
  {
   "cell_type": "markdown",
   "id": "5df66441",
   "metadata": {},
   "source": [
    "## Results and discussion\n",
    "\n",
    "### Does it smell?\n",
    "\n",
    "The first step was\n",
    "\n",
    "- wanted database with all molecules -> way too many, would be too heavy and not possible to do a search of all molecules in the world. Instead for some functions, go directly on the web. If don't know SMILES, database with most common molecules in perfumes\n",
    "- database with most common molecules and their smiles\n",
    "- database with 29 perfumes and which molecules they contain\n",
    "- database with odor of these most common molecules -> maybe just put it in the smiles database?"
   ]
  },
  {
   "cell_type": "markdown",
   "id": "f0bd0f5f",
   "metadata": {},
   "source": [
    "Important functions:\n",
    "- has a smell\n",
    "- is toxic\n",
    "- evaporation trace\n",
    "- usable in perfume\n",
    "- match mol to perfume\n",
    "- match mol to odor\n",
    "- combination"
   ]
  },
  {
   "cell_type": "code",
   "execution_count": 11,
   "id": "f47c0991",
   "metadata": {},
   "outputs": [
    {
     "ename": "FileNotFoundError",
     "evalue": "[Errno 2] No such file or directory: 'project/PERFUMEme/data/perfumes.json'",
     "output_type": "error",
     "traceback": [
      "\u001b[0;31m---------------------------------------------------------------------------\u001b[0m",
      "\u001b[0;31mFileNotFoundError\u001b[0m                         Traceback (most recent call last)",
      "Cell \u001b[0;32mIn[11], line 3\u001b[0m\n\u001b[1;32m      1\u001b[0m \u001b[38;5;28;01mimport\u001b[39;00m\u001b[38;5;250m \u001b[39m\u001b[38;5;21;01mjson\u001b[39;00m\n\u001b[0;32m----> 3\u001b[0m \u001b[38;5;28;01mwith\u001b[39;00m \u001b[38;5;28;43mopen\u001b[39;49m\u001b[43m(\u001b[49m\u001b[38;5;124;43m\"\u001b[39;49m\u001b[38;5;124;43mproject/PERFUMEme/data/perfumes.json\u001b[39;49m\u001b[38;5;124;43m\"\u001b[39;49m\u001b[43m)\u001b[49m \u001b[38;5;28;01mas\u001b[39;00m f:\n\u001b[1;32m      4\u001b[0m     perfumes \u001b[38;5;241m=\u001b[39m json\u001b[38;5;241m.\u001b[39mload(f)\n\u001b[1;32m      6\u001b[0m \u001b[38;5;66;03m# Find all perfumes containing Linalool\u001b[39;00m\n",
      "File \u001b[0;32m/opt/anaconda3/envs/ppchem/lib/python3.10/site-packages/IPython/core/interactiveshell.py:324\u001b[0m, in \u001b[0;36m_modified_open\u001b[0;34m(file, *args, **kwargs)\u001b[0m\n\u001b[1;32m    317\u001b[0m \u001b[38;5;28;01mif\u001b[39;00m file \u001b[38;5;129;01min\u001b[39;00m {\u001b[38;5;241m0\u001b[39m, \u001b[38;5;241m1\u001b[39m, \u001b[38;5;241m2\u001b[39m}:\n\u001b[1;32m    318\u001b[0m     \u001b[38;5;28;01mraise\u001b[39;00m \u001b[38;5;167;01mValueError\u001b[39;00m(\n\u001b[1;32m    319\u001b[0m         \u001b[38;5;124mf\u001b[39m\u001b[38;5;124m\"\u001b[39m\u001b[38;5;124mIPython won\u001b[39m\u001b[38;5;124m'\u001b[39m\u001b[38;5;124mt let you open fd=\u001b[39m\u001b[38;5;132;01m{\u001b[39;00mfile\u001b[38;5;132;01m}\u001b[39;00m\u001b[38;5;124m by default \u001b[39m\u001b[38;5;124m\"\u001b[39m\n\u001b[1;32m    320\u001b[0m         \u001b[38;5;124m\"\u001b[39m\u001b[38;5;124mas it is likely to crash IPython. If you know what you are doing, \u001b[39m\u001b[38;5;124m\"\u001b[39m\n\u001b[1;32m    321\u001b[0m         \u001b[38;5;124m\"\u001b[39m\u001b[38;5;124myou can use builtins\u001b[39m\u001b[38;5;124m'\u001b[39m\u001b[38;5;124m open.\u001b[39m\u001b[38;5;124m\"\u001b[39m\n\u001b[1;32m    322\u001b[0m     )\n\u001b[0;32m--> 324\u001b[0m \u001b[38;5;28;01mreturn\u001b[39;00m \u001b[43mio_open\u001b[49m\u001b[43m(\u001b[49m\u001b[43mfile\u001b[49m\u001b[43m,\u001b[49m\u001b[43m \u001b[49m\u001b[38;5;241;43m*\u001b[39;49m\u001b[43margs\u001b[49m\u001b[43m,\u001b[49m\u001b[43m \u001b[49m\u001b[38;5;241;43m*\u001b[39;49m\u001b[38;5;241;43m*\u001b[39;49m\u001b[43mkwargs\u001b[49m\u001b[43m)\u001b[49m\n",
      "\u001b[0;31mFileNotFoundError\u001b[0m: [Errno 2] No such file or directory: 'project/PERFUMEme/data/perfumes.json'"
     ]
    }
   ],
   "source": [
    "import json\n",
    "\n",
    "with open(\"project/PERFUMEme/data/perfumes.json\") as f:\n",
    "    perfumes = json.load(f)\n",
    "\n",
    "# Find all perfumes containing Linalool\n",
    "linalool_perfumes = [p[\"name\"] for p in perfumes if any(m[\"name\"] == \"Linalool\" for m in p[\"molecules\"])]\n",
    "print(linalool_perfumes)\n"
   ]
  }
 ],
 "metadata": {
  "kernelspec": {
   "display_name": "ppchem",
   "language": "python",
   "name": "python3"
  },
  "language_info": {
   "codemirror_mode": {
    "name": "ipython",
    "version": 3
   },
   "file_extension": ".py",
   "mimetype": "text/x-python",
   "name": "python",
   "nbconvert_exporter": "python",
   "pygments_lexer": "ipython3",
   "version": "3.10.16"
  }
 },
 "nbformat": 4,
 "nbformat_minor": 5
}
